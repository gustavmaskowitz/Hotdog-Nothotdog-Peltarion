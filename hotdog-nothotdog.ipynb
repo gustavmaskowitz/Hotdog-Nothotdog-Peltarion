{
 "cells": [
  {
   "cell_type": "markdown",
   "metadata": {},
   "source": [
    "# Hotdog-nothotdog"
   ]
  },
  {
   "cell_type": "markdown",
   "metadata": {},
   "source": [
    "## Step 1 - make the dataset\n",
    "Step one is making the dataset\n",
    "Imagine you have two folders full of pictures.\n",
    "One of HotDogs and another of NotHotDogs.\n",
    "Below I am assigning the folder name as the class or label column.\n",
    "\n",
    "Purely as an example dataset, see https://www.kaggle.com/dansbecker/hot-dog-not-hot-dog\n",
    "\n",
    "get hot-dog-not-hot-dog.zip"
   ]
  },
  {
   "cell_type": "markdown",
   "metadata": {},
   "source": [
    "## Step 2 - resize the pictures\n",
    "Let's assume your dataset is in the folder Hotdog-Nothotdog"
   ]
  },
  {
   "cell_type": "code",
   "execution_count": 1,
   "metadata": {},
   "outputs": [],
   "source": [
    "import glob\n",
    "import os\n",
    "import pandas as pd\n",
    "from PIL import Image"
   ]
  },
  {
   "cell_type": "code",
   "execution_count": 3,
   "metadata": {},
   "outputs": [],
   "source": [
    "!unzip -q hotdog-nothotdog-kaggle-orig.zip"
   ]
  },
  {
   "cell_type": "code",
   "execution_count": 4,
   "metadata": {},
   "outputs": [
    {
     "name": "stdout",
     "output_type": "stream",
     "text": [
      "/Users/gustavmaskowitz/Projects/hotdogdemo/hotdogdemo/train\n"
     ]
    }
   ],
   "source": [
    "%cd train\n",
    "images = glob.glob('*/*.jpg')"
   ]
  },
  {
   "cell_type": "code",
   "execution_count": 5,
   "metadata": {},
   "outputs": [
    {
     "data": {
      "text/html": [
       "<div>\n",
       "<style scoped>\n",
       "    .dataframe tbody tr th:only-of-type {\n",
       "        vertical-align: middle;\n",
       "    }\n",
       "\n",
       "    .dataframe tbody tr th {\n",
       "        vertical-align: top;\n",
       "    }\n",
       "\n",
       "    .dataframe thead th {\n",
       "        text-align: right;\n",
       "    }\n",
       "</style>\n",
       "<table border=\"1\" class=\"dataframe\">\n",
       "  <thead>\n",
       "    <tr style=\"text-align: right;\">\n",
       "      <th></th>\n",
       "      <th>class</th>\n",
       "      <th>image</th>\n",
       "    </tr>\n",
       "  </thead>\n",
       "  <tbody>\n",
       "    <tr>\n",
       "      <th>0</th>\n",
       "      <td>not_hot_dog</td>\n",
       "      <td>not_hot_dog/230015.jpg</td>\n",
       "    </tr>\n",
       "    <tr>\n",
       "      <th>1</th>\n",
       "      <td>not_hot_dog</td>\n",
       "      <td>not_hot_dog/102037.jpg</td>\n",
       "    </tr>\n",
       "    <tr>\n",
       "      <th>2</th>\n",
       "      <td>not_hot_dog</td>\n",
       "      <td>not_hot_dog/256347.jpg</td>\n",
       "    </tr>\n",
       "    <tr>\n",
       "      <th>3</th>\n",
       "      <td>not_hot_dog</td>\n",
       "      <td>not_hot_dog/296611.jpg</td>\n",
       "    </tr>\n",
       "    <tr>\n",
       "      <th>4</th>\n",
       "      <td>not_hot_dog</td>\n",
       "      <td>not_hot_dog/835998.jpg</td>\n",
       "    </tr>\n",
       "  </tbody>\n",
       "</table>\n",
       "</div>"
      ],
      "text/plain": [
       "         class                   image\n",
       "0  not_hot_dog  not_hot_dog/230015.jpg\n",
       "1  not_hot_dog  not_hot_dog/102037.jpg\n",
       "2  not_hot_dog  not_hot_dog/256347.jpg\n",
       "3  not_hot_dog  not_hot_dog/296611.jpg\n",
       "4  not_hot_dog  not_hot_dog/835998.jpg"
      ]
     },
     "execution_count": 5,
     "metadata": {},
     "output_type": "execute_result"
    }
   ],
   "source": [
    "classes = list(map(os.path.dirname, images))\n",
    "dataset_index = pd.DataFrame({'image': images, 'class': classes})\n",
    "dataset_index.head()"
   ]
  },
  {
   "cell_type": "markdown",
   "metadata": {},
   "source": [
    "Now create an index.csv file, zip the folders and index.csv together and you have a working upload to start experimenting on."
   ]
  },
  {
   "cell_type": "code",
   "execution_count": 6,
   "metadata": {},
   "outputs": [],
   "source": [
    "dataset_index.to_csv('index.csv', index=False)"
   ]
  },
  {
   "cell_type": "code",
   "execution_count": 7,
   "metadata": {},
   "outputs": [
    {
     "name": "stdout",
     "output_type": "stream",
     "text": [
      "Done\n"
     ]
    }
   ],
   "source": [
    "# Here we resize all the images listed in the index file.\n",
    "# This CHANGES the images in the 'train' directory to the size specified\n",
    "IMAGE_SIZE = (224,224)\n",
    "for idx, row in dataset_index.iterrows():\n",
    "    image_column = row[\"image\"]\n",
    "    im = Image.open(image_column)\n",
    "    im = im.resize(IMAGE_SIZE)\n",
    "    #print(\"about to resize\", img_name)\n",
    "    im.save(image_column)\n",
    "    #print(\"Just saved\", image_column)\n",
    "print(\"Done\")"
   ]
  },
  {
   "cell_type": "markdown",
   "metadata": {},
   "source": [
    "## Step 3 - Make your dataset ready for upload\n",
    "We currently accept a bundled zip, with an index file + content dir"
   ]
  },
  {
   "cell_type": "code",
   "execution_count": 8,
   "metadata": {},
   "outputs": [],
   "source": [
    "!zip -q ../hotdogbundle.zip -r ./"
   ]
  },
  {
   "cell_type": "code",
   "execution_count": null,
   "metadata": {},
   "outputs": [],
   "source": [
    "%cd /Users/gustavmaskowitz/Projects/hotdogdemo"
   ]
  },
  {
   "cell_type": "markdown",
   "metadata": {},
   "source": [
    "## Step 4 - Go build the model\n",
    "Go to https://platform.peltarion.com\n",
    "Do your thing, flick on the deployment and grab the creds\n",
    "Choose the pretrained VGG CNN off the shelf, train, deploy. Done\n",
    "Share what you find with us on support@peltarion.com"
   ]
  },
  {
   "cell_type": "markdown",
   "metadata": {},
   "source": [
    "## Step 5 - Test it"
   ]
  },
  {
   "cell_type": "markdown",
   "metadata": {},
   "source": [
    "Instead of resizing here, consider using the web front on github or my hosted version at http://bit.ly/peltarion-hotdog-nothotdog "
   ]
  },
  {
   "cell_type": "code",
   "execution_count": null,
   "metadata": {},
   "outputs": [],
   "source": [
    "testimage = Image.open('test/hot_dog/xyz.jpg')\n",
    "# And recall that the resixing done above was \"IMAGE_SIZE = (224,224)\"\n",
    "testimage"
   ]
  },
  {
   "cell_type": "code",
   "execution_count": null,
   "metadata": {},
   "outputs": [],
   "source": [
    "# IMAGE_SIZE = (224,224) This was set above\n",
    "testimage = testimage.resize(IMAGE_SIZE)\n",
    "testimage"
   ]
  },
  {
   "cell_type": "code",
   "execution_count": null,
   "metadata": {},
   "outputs": [],
   "source": [
    "outfile = 'test-out.jpg'\n",
    "testimage.save(outfile)"
   ]
  }
 ],
 "metadata": {
  "kernelspec": {
   "display_name": "Python 3",
   "language": "python",
   "name": "python3"
  },
  "language_info": {
   "codemirror_mode": {
    "name": "ipython",
    "version": 3
   },
   "file_extension": ".py",
   "mimetype": "text/x-python",
   "name": "python",
   "nbconvert_exporter": "python",
   "pygments_lexer": "ipython3",
   "version": "3.6.4"
  }
 },
 "nbformat": 4,
 "nbformat_minor": 2
}
